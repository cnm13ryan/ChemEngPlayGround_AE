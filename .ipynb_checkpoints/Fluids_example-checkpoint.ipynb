{
 "cells": [
  {
   "cell_type": "markdown",
   "id": "1adb32ed",
   "metadata": {},
   "source": [
    "Given a differential pressure of 17 kPa is measured across taps located 1D upstream/0.5D downstream from the inlet face of a 50 mm ID orifice plate in an 80 mm schedule 80 steel pipe carrying water 15 deg C. Find the flow rate in gallons/minute.\n",
    "\n",
    "\n",
    "(https://fluids.readthedocs.io/Examples/Crane%20TP%20410%20Solved%20Problems/7.29%20Orifice%20Flow%20Rate%20Calculation.html)"
   ]
  },
  {
   "cell_type": "code",
   "execution_count": 1,
   "id": "744e6caa",
   "metadata": {},
   "outputs": [
    {
     "data": {
      "text/html": [
       "0.07366 meter"
      ],
      "text/latex": [
       "$0.07366\\ \\mathrm{meter}$"
      ],
      "text/plain": [
       "0.07366 <Unit('meter')>"
      ]
     },
     "execution_count": 1,
     "metadata": {},
     "output_type": "execute_result"
    }
   ],
   "source": [
    "from fluids.units import *\n",
    "from thermo.units import Chemical\n",
    "\n",
    "P1 = 2*u.bar # The full set of equations requires actual pressures not just the pressure difference, so an initial pressure of 2 bar is assumed.\n",
    "P2 = P1 -  17*u.kPa\n",
    "taps = 'D'\n",
    "meter_type = 'ISO 5167 orifice'\n",
    "Do = 50*u.mm\n",
    "\n",
    "NPS, D, _, t_pipe = nearest_pipe(Do=80*u.mm, schedule=80)\n",
    "\n",
    "D"
   ]
  },
  {
   "cell_type": "code",
   "execution_count": 2,
   "id": "22d73ba9",
   "metadata": {},
   "outputs": [
    {
     "data": {
      "text/plain": [
       "(999.1352849261384 <Unit('kilogram / meter ** 3')>,\n",
       " 0.0011380945752214355 <Unit('pascal * second')>,\n",
       " 1.329536639348325 <Unit('dimensionless')>)"
      ]
     },
     "execution_count": 2,
     "metadata": {},
     "output_type": "execute_result"
    }
   ],
   "source": [
    "water = Chemical('water', T=15*u.degC, P=P1)\n",
    "rho = water.rho\n",
    "mu = water.mu\n",
    "k = water.isentropic_exponent\n",
    "rho, mu, k"
   ]
  },
  {
   "cell_type": "code",
   "execution_count": 3,
   "id": "5413791d",
   "metadata": {},
   "outputs": [
    {
     "name": "stdout",
     "output_type": "stream",
     "text": [
      "7.704252842650875 kilogram / second\n",
      "462.6552355152034 liter / minute\n"
     ]
    }
   ],
   "source": [
    "m = differential_pressure_meter_solver(D=D, D2=Do, P1=P1, P2=P2, rho=rho, mu=mu, k=k, meter_type=meter_type, taps=taps)\n",
    "print(m)\n",
    "Q = m/rho\n",
    "print(Q.to('L/min'))"
   ]
  },
  {
   "cell_type": "code",
   "execution_count": null,
   "id": "a5b27c5f",
   "metadata": {},
   "outputs": [],
   "source": []
  }
 ],
 "metadata": {
  "kernelspec": {
   "display_name": "venv",
   "language": "python",
   "name": "venv"
  },
  "language_info": {
   "codemirror_mode": {
    "name": "ipython",
    "version": 3
   },
   "file_extension": ".py",
   "mimetype": "text/x-python",
   "name": "python",
   "nbconvert_exporter": "python",
   "pygments_lexer": "ipython3",
   "version": "3.10.9"
  }
 },
 "nbformat": 4,
 "nbformat_minor": 5
}
