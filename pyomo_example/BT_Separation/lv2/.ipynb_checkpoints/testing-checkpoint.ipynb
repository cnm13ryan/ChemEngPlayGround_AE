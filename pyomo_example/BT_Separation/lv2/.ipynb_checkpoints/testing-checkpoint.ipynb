{
 "cells": [
  {
   "cell_type": "code",
   "execution_count": 1,
   "id": "263752a8",
   "metadata": {},
   "outputs": [],
   "source": [
    "# 1. Adjusting Python path (only if necessary)\n",
    "import sys\n",
    "sys.path.append(\"/Users/nokman/git/ChemEngPlayGround_AE/pyomo_example/BT_Separation/lv2\")  # Replace with your actual directory path\n",
    "\n",
    "# 2. Execute each file using the %run magic command\n",
    "%run chemical_model.py\n",
    "%run parameters.py\n",
    "%run variables.py\n",
    "%run constraints.py\n"
   ]
  },
  {
   "cell_type": "code",
   "execution_count": 2,
   "id": "1b5e4f82",
   "metadata": {},
   "outputs": [
    {
     "name": "stdout",
     "output_type": "stream",
     "text": [
      "DOF = 47\n",
      "GLPSOL--GLPK LP/MIP Solver 5.0\n",
      "Parameter(s) specified in the command line:\n",
      " --write /var/folders/gy/c4rlm6717dz1_9h1rm_7t_cm0000gn/T/tmpf4i7g9fz.glpk.raw\n",
      " --wglp /var/folders/gy/c4rlm6717dz1_9h1rm_7t_cm0000gn/T/tmpwtohasd1.glpk.glp\n",
      " --cpxlp /var/folders/gy/c4rlm6717dz1_9h1rm_7t_cm0000gn/T/tmptkvcrt26.pyomo.lp\n",
      "Reading problem data from '/var/folders/gy/c4rlm6717dz1_9h1rm_7t_cm0000gn/T/tmptkvcrt26.pyomo.lp'...\n",
      "63 rows, 111 columns, 219 non-zeros\n",
      "529 lines were read\n",
      "Writing problem data to '/var/folders/gy/c4rlm6717dz1_9h1rm_7t_cm0000gn/T/tmpwtohasd1.glpk.glp'...\n",
      "467 lines were written\n",
      "GLPK Simplex Optimizer 5.0\n",
      "63 rows, 111 columns, 219 non-zeros\n",
      "Preprocessing...\n",
      "10 rows, 40 columns, 40 non-zeros\n",
      "Scaling...\n",
      " A: min|aij| =  1.000e+00  max|aij| =  1.000e+00  ratio =  1.000e+00\n",
      "Problem data seem to be well scaled\n",
      "Constructing initial basis...\n",
      "Size of triangular part is 10\n",
      "*     0: obj =   1.000000000e+00 inf =   0.000e+00 (0)\n",
      "OPTIMAL LP SOLUTION FOUND\n",
      "Time used:   0.0 secs\n",
      "Memory used: 0.1 Mb (112872 bytes)\n",
      "Writing basic solution to '/var/folders/gy/c4rlm6717dz1_9h1rm_7t_cm0000gn/T/tmpf4i7g9fz.glpk.raw'...\n",
      "183 lines were written\n",
      "Results:\n",
      "\n",
      "Stream S Results:\n",
      "S1: 550.4\n",
      "S2: 141.61792\n",
      "S3: 408.72704\n",
      "S4: 316.43563776\n",
      "S5: 92.29140224\n",
      "S6: 3.1509156096\n",
      "S7: 89.1404866304\n",
      "S8: 1.399111296\n",
      "S9: 1.39802695296\n",
      "S10: 0.00108434304\n",
      "\n",
      "Component Flow Rate Results:\n",
      "Molar Flow rate of[ParaXylene] in S1: 0.05504\n",
      "Molar Flow rate of[MetaXylene] in S1: 13.42976\n",
      "Molar Flow rate of[OrthoXylene] in S1: 75.62495999999999\n",
      "Molar Flow rate of[Toluene] in S1: 321.43359999999996\n",
      "Molar Flow rate of[Benzene] in S1: 139.8016\n",
      "Molar Flow rate of[Benzene] in S2: 138.403584\n",
      "Molar Flow rate of[Toluene] in S2: 3.214336\n",
      "Molar Flow rate of[OrthoXylene] in S2: 0.0\n",
      "Molar Flow rate of[MetaXylene] in S2: 0.0\n",
      "Molar Flow rate of[ParaXylene] in S2: 0.0\n",
      "Molar Flow rate of[Benzene] in S3: 1.398016\n",
      "Molar Flow rate of[Toluene] in S3: 318.219264\n",
      "Molar Flow rate of[OrthoXylene] in S3: 75.62496\n",
      "Molar Flow rate of[MetaXylene] in S3: 13.42976\n",
      "Molar Flow rate of[ParaXylene] in S3: 0.05504\n",
      "Molar Flow rate of[Benzene] in S4: 1.398016\n",
      "Molar Flow rate of[Toluene] in S4: 315.03707136\n",
      "Molar Flow rate of[OrthoXylene] in S4: 0.0\n",
      "Molar Flow rate of[MetaXylene] in S4: 0.0\n",
      "Molar Flow rate of[ParaXylene] in S4: 0.0005504\n",
      "Molar Flow rate of[Benzene] in S5: 0.0\n",
      "Molar Flow rate of[Toluene] in S5: 3.18219264\n",
      "Molar Flow rate of[OrthoXylene] in S5: 75.62496\n",
      "Molar Flow rate of[MetaXylene] in S5: 13.42976\n",
      "Molar Flow rate of[ParaXylene] in S5: 0.0544896\n",
      "Molar Flow rate of[Benzene] in S6: 0.0\n",
      "Molar Flow rate of[Toluene] in S6: 3.1503707136\n",
      "Molar Flow rate of[OrthoXylene] in S6: 0.0\n",
      "Molar Flow rate of[MetaXylene] in S6: 0.0\n",
      "Molar Flow rate of[ParaXylene] in S6: 0.000544896\n",
      "Molar Flow rate of[Benzene] in S7: 0.0\n",
      "Molar Flow rate of[Toluene] in S7: 0.0318219264000001\n",
      "Molar Flow rate of[OrthoXylene] in S7: 75.62496\n",
      "Molar Flow rate of[MetaXylene] in S7: 13.42976\n",
      "Molar Flow rate of[ParaXylene] in S7: 0.053944704\n",
      "Molar Flow rate of[Benzene] in S8: 1.398016\n",
      "Molar Flow rate of[Toluene] in S8: 0.0\n",
      "Molar Flow rate of[OrthoXylene] in S8: 0.0\n",
      "Molar Flow rate of[MetaXylene] in S8: 0.0\n",
      "Molar Flow rate of[ParaXylene] in S8: 0.001095296\n",
      "Molar Flow rate of[Benzene] in S9: 1.398016\n",
      "Molar Flow rate of[Toluene] in S9: -0.0\n",
      "Molar Flow rate of[OrthoXylene] in S9: 0.0\n",
      "Molar Flow rate of[MetaXylene] in S9: 0.0\n",
      "Molar Flow rate of[ParaXylene] in S9: 1.095296e-05\n",
      "Molar Flow rate of[Benzene] in S10: 0.0\n",
      "Molar Flow rate of[Toluene] in S10: -0.0\n",
      "Molar Flow rate of[OrthoXylene] in S10: 0.0\n",
      "Molar Flow rate of[MetaXylene] in S10: 0.0\n",
      "Molar Flow rate of[ParaXylene] in S10: 0.00108434304\n",
      "\n",
      "Stream Table:\n",
      "      Benzene   Toluene  OrthoXylene  MetaXylene  ParaXylene\n",
      "s1   139.8016  321.4336     75.62496    13.42976     0.05504\n",
      "s2   138.4036    3.2143      0.00000     0.00000     0.00000\n",
      "s3     1.3980  318.2193     75.62500    13.42980     0.05500\n",
      "s4     1.3980  315.0371      0.00000     0.00000     0.00060\n",
      "s5     0.0000    3.1822     75.62500    13.42980     0.05450\n",
      "s6     0.0000    3.1504      0.00000     0.00000     0.00050\n",
      "s7     0.0000    0.0318     75.62500    13.42980     0.05390\n",
      "s8     1.3980    0.0000      0.00000     0.00000     0.00110\n",
      "s9     1.3980   -0.0000      0.00000     0.00000     0.00000\n",
      "s10    0.0000   -0.0000      0.00000     0.00000     0.00110\n",
      "\n",
      "Results have been written to model_results.txt\n"
     ]
    }
   ],
   "source": [
    "%run main.py"
   ]
  },
  {
   "cell_type": "markdown",
   "id": "3f3bcf87",
   "metadata": {},
   "source": [
    "s8_{Toluene} = 315.0371 + 3.1504 = 318.1875\n",
    "s9_{Toluene} = 315.005625\n"
   ]
  },
  {
   "cell_type": "code",
   "execution_count": 3,
   "id": "02dd9e2b",
   "metadata": {},
   "outputs": [
    {
     "data": {
      "text/plain": [
       "318.1875"
      ]
     },
     "execution_count": 3,
     "metadata": {},
     "output_type": "execute_result"
    }
   ],
   "source": [
    "315.0371 + 3.1504"
   ]
  },
  {
   "cell_type": "code",
   "execution_count": 4,
   "id": "0f2b700b",
   "metadata": {},
   "outputs": [
    {
     "data": {
      "text/plain": [
       "315.005625"
      ]
     },
     "execution_count": 4,
     "metadata": {},
     "output_type": "execute_result"
    }
   ],
   "source": [
    "318.1875 * 0.99"
   ]
  },
  {
   "cell_type": "markdown",
   "id": "b143f470",
   "metadata": {},
   "source": [
    "s9_{Toluene} = 315.005625\n",
    "s9_{Benzene} = 1.3980\n"
   ]
  }
 ],
 "metadata": {
  "kernelspec": {
   "display_name": "Python 3 (ipykernel)",
   "language": "python",
   "name": "python3"
  },
  "language_info": {
   "codemirror_mode": {
    "name": "ipython",
    "version": 3
   },
   "file_extension": ".py",
   "mimetype": "text/x-python",
   "name": "python",
   "nbconvert_exporter": "python",
   "pygments_lexer": "ipython3",
   "version": "3.10.9"
  }
 },
 "nbformat": 4,
 "nbformat_minor": 5
}
